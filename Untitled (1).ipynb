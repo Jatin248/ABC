{
 "cells": [
  {
   "cell_type": "code",
   "execution_count": 268,
   "metadata": {},
   "outputs": [],
   "source": [
    "import tensorflow as tf\n",
    "from keras.preprocessing.image import ImageDataGenerator"
   ]
  },
  {
   "cell_type": "code",
   "execution_count": 269,
   "metadata": {},
   "outputs": [
    {
     "data": {
      "text/plain": [
       "'2.3.0'"
      ]
     },
     "execution_count": 269,
     "metadata": {},
     "output_type": "execute_result"
    }
   ],
   "source": [
    "tf.__version__"
   ]
  },
  {
   "cell_type": "code",
   "execution_count": 270,
   "metadata": {},
   "outputs": [],
   "source": [
    "training=r'C:\\Users\\DELL\\Desktop\\Section+40+-+Convolutional+Neural+Networks+(CNN)\\Section 40 - Convolutional Neural Networks (CNN)\\dataset\\training_set'\n",
    "test=r'C:\\Users\\DELL\\Desktop\\Section+40+-+Convolutional+Neural+Networks+(CNN)\\Section 40 - Convolutional Neural Networks (CNN)\\dataset\\test_set'\n",
    "                                                                                             "
   ]
  },
  {
   "cell_type": "code",
   "execution_count": 271,
   "metadata": {},
   "outputs": [
    {
     "name": "stdout",
     "output_type": "stream",
     "text": [
      "Found 8000 images belonging to 2 classes.\n"
     ]
    }
   ],
   "source": [
    "train_datagen = ImageDataGenerator(rescale = 1./255,\n",
    "                                   shear_range = 0.2,\n",
    "                                   zoom_range = 0.2,\n",
    "                                   horizontal_flip = True)\n",
    "training_set = train_datagen.flow_from_directory(training,\n",
    "                                                 target_size = (64, 64),\n",
    "                                                 batch_size = 32,\n",
    "                                                 class_mode = 'binary')"
   ]
  },
  {
   "cell_type": "code",
   "execution_count": 272,
   "metadata": {},
   "outputs": [
    {
     "name": "stdout",
     "output_type": "stream",
     "text": [
      "Found 2000 images belonging to 2 classes.\n"
     ]
    }
   ],
   "source": [
    "test_datagen = ImageDataGenerator(rescale = 1./255)\n",
    "test_set = test_datagen.flow_from_directory(test,\n",
    "                                            target_size = (64, 64),\n",
    "                                            batch_size = 32,\n",
    "                                            class_mode = 'binary')"
   ]
  },
  {
   "cell_type": "code",
   "execution_count": 273,
   "metadata": {},
   "outputs": [],
   "source": [
    "cnn = tf.keras.models.Sequential()"
   ]
  },
  {
   "cell_type": "code",
   "execution_count": 274,
   "metadata": {},
   "outputs": [],
   "source": [
    "cnn.add(tf.keras.layers.Conv2D(filters=32, kernel_size=3, activation='relu', input_shape=[64, 64, 3]))"
   ]
  },
  {
   "cell_type": "code",
   "execution_count": 275,
   "metadata": {},
   "outputs": [],
   "source": [
    "cnn.add(tf.keras.layers.MaxPool2D(pool_size=2, strides=2))"
   ]
  },
  {
   "cell_type": "code",
   "execution_count": 276,
   "metadata": {},
   "outputs": [],
   "source": [
    "cnn.add(tf.keras.layers.Conv2D(filters=32, kernel_size=3, activation='relu'))\n",
    "cnn.add(tf.keras.layers.MaxPool2D(pool_size=2, strides=2))"
   ]
  },
  {
   "cell_type": "code",
   "execution_count": 277,
   "metadata": {},
   "outputs": [],
   "source": [
    "cnn.add(tf.keras.layers.Flatten())"
   ]
  },
  {
   "cell_type": "code",
   "execution_count": 278,
   "metadata": {},
   "outputs": [],
   "source": [
    "cnn.add(tf.keras.layers.Dense(units=128, activation='relu'))"
   ]
  },
  {
   "cell_type": "code",
   "execution_count": 279,
   "metadata": {},
   "outputs": [],
   "source": [
    "cnn.add(tf.keras.layers.Dense(units=128, activation='relu'))"
   ]
  },
  {
   "cell_type": "code",
   "execution_count": 280,
   "metadata": {},
   "outputs": [],
   "source": [
    "cnn.add(tf.keras.layers.Dropout(0.5))"
   ]
  },
  {
   "cell_type": "code",
   "execution_count": 281,
   "metadata": {},
   "outputs": [],
   "source": [
    "cnn.add(tf.keras.layers.Dense(units=1, activation='sigmoid'))"
   ]
  },
  {
   "cell_type": "code",
   "execution_count": 282,
   "metadata": {
    "scrolled": true
   },
   "outputs": [],
   "source": [
    "opt = tf.keras.optimizers.Adam(learning_rate=0.0002)"
   ]
  },
  {
   "cell_type": "code",
   "execution_count": 283,
   "metadata": {},
   "outputs": [],
   "source": [
    "cnn.compile(optimizer =opt , loss = 'binary_crossentropy', metrics = ['accuracy'])"
   ]
  },
  {
   "cell_type": "code",
   "execution_count": 284,
   "metadata": {},
   "outputs": [
    {
     "name": "stdout",
     "output_type": "stream",
     "text": [
      "Epoch 1/50\n",
      "250/250 [==============================] - 69s 274ms/step - loss: 0.6806 - accuracy: 0.5592 - val_loss: 0.6410 - val_accuracy: 0.6535\n",
      "Epoch 2/50\n",
      "250/250 [==============================] - 68s 273ms/step - loss: 0.6212 - accuracy: 0.6586 - val_loss: 0.5744 - val_accuracy: 0.7010\n",
      "Epoch 3/50\n",
      "250/250 [==============================] - 68s 272ms/step - loss: 0.5808 - accuracy: 0.6930 - val_loss: 0.5437 - val_accuracy: 0.7235\n",
      "Epoch 4/50\n",
      "250/250 [==============================] - 69s 278ms/step - loss: 0.5587 - accuracy: 0.7091 - val_loss: 0.5515 - val_accuracy: 0.7250\n",
      "Epoch 5/50\n",
      "250/250 [==============================] - 71s 283ms/step - loss: 0.5330 - accuracy: 0.7278 - val_loss: 0.5159 - val_accuracy: 0.7470\n",
      "Epoch 6/50\n",
      "250/250 [==============================] - 77s 309ms/step - loss: 0.5077 - accuracy: 0.7469 - val_loss: 0.5040 - val_accuracy: 0.7565\n",
      "Epoch 7/50\n",
      "250/250 [==============================] - 78s 314ms/step - loss: 0.4969 - accuracy: 0.7623 - val_loss: 0.4730 - val_accuracy: 0.7700\n",
      "Epoch 8/50\n",
      "250/250 [==============================] - 73s 292ms/step - loss: 0.4821 - accuracy: 0.7653 - val_loss: 0.4971 - val_accuracy: 0.7640\n",
      "Epoch 9/50\n",
      "250/250 [==============================] - 74s 298ms/step - loss: 0.4785 - accuracy: 0.7681 - val_loss: 0.5280 - val_accuracy: 0.7485\n",
      "Epoch 10/50\n",
      "250/250 [==============================] - 74s 297ms/step - loss: 0.4694 - accuracy: 0.7795 - val_loss: 0.4758 - val_accuracy: 0.7795\n",
      "Epoch 11/50\n",
      "250/250 [==============================] - 75s 300ms/step - loss: 0.4640 - accuracy: 0.7769 - val_loss: 0.4806 - val_accuracy: 0.7745\n",
      "Epoch 12/50\n",
      "250/250 [==============================] - 74s 297ms/step - loss: 0.4497 - accuracy: 0.7894 - val_loss: 0.5502 - val_accuracy: 0.7380\n",
      "Epoch 13/50\n",
      "250/250 [==============================] - 75s 300ms/step - loss: 0.4441 - accuracy: 0.7915 - val_loss: 0.4543 - val_accuracy: 0.7915\n",
      "Epoch 14/50\n",
      "250/250 [==============================] - 73s 291ms/step - loss: 0.4347 - accuracy: 0.7951 - val_loss: 0.4584 - val_accuracy: 0.7945\n",
      "Epoch 15/50\n",
      "250/250 [==============================] - 74s 297ms/step - loss: 0.4316 - accuracy: 0.8035 - val_loss: 0.4498 - val_accuracy: 0.7915\n",
      "Epoch 16/50\n",
      "250/250 [==============================] - 73s 291ms/step - loss: 0.4217 - accuracy: 0.8087 - val_loss: 0.4633 - val_accuracy: 0.7965\n",
      "Epoch 17/50\n",
      "250/250 [==============================] - 72s 289ms/step - loss: 0.4112 - accuracy: 0.8116 - val_loss: 0.4820 - val_accuracy: 0.7845\n",
      "Epoch 18/50\n",
      "250/250 [==============================] - 74s 297ms/step - loss: 0.4118 - accuracy: 0.8121 - val_loss: 0.5084 - val_accuracy: 0.7740\n",
      "Epoch 19/50\n",
      "250/250 [==============================] - 77s 306ms/step - loss: 0.3922 - accuracy: 0.8199 - val_loss: 0.4518 - val_accuracy: 0.8010\n",
      "Epoch 20/50\n",
      "250/250 [==============================] - 72s 290ms/step - loss: 0.3882 - accuracy: 0.8206 - val_loss: 0.4712 - val_accuracy: 0.7935\n",
      "Epoch 21/50\n",
      "250/250 [==============================] - 70s 278ms/step - loss: 0.3882 - accuracy: 0.8265 - val_loss: 0.4583 - val_accuracy: 0.7995\n",
      "Epoch 22/50\n",
      "250/250 [==============================] - 68s 272ms/step - loss: 0.3706 - accuracy: 0.8346 - val_loss: 0.4831 - val_accuracy: 0.7840\n",
      "Epoch 23/50\n",
      "250/250 [==============================] - 70s 282ms/step - loss: 0.3736 - accuracy: 0.8289 - val_loss: 0.4504 - val_accuracy: 0.8040\n",
      "Epoch 24/50\n",
      "250/250 [==============================] - 68s 271ms/step - loss: 0.3666 - accuracy: 0.8332 - val_loss: 0.5013 - val_accuracy: 0.7730\n",
      "Epoch 25/50\n",
      "250/250 [==============================] - 69s 278ms/step - loss: 0.3469 - accuracy: 0.8509 - val_loss: 0.4554 - val_accuracy: 0.8070\n",
      "Epoch 26/50\n",
      "250/250 [==============================] - 71s 285ms/step - loss: 0.3463 - accuracy: 0.8485 - val_loss: 0.4482 - val_accuracy: 0.8105\n",
      "Epoch 27/50\n",
      "250/250 [==============================] - 69s 276ms/step - loss: 0.3367 - accuracy: 0.8531 - val_loss: 0.4681 - val_accuracy: 0.7940\n",
      "Epoch 28/50\n",
      "250/250 [==============================] - 70s 278ms/step - loss: 0.3328 - accuracy: 0.8555 - val_loss: 0.4544 - val_accuracy: 0.8035\n",
      "Epoch 29/50\n",
      "250/250 [==============================] - 69s 277ms/step - loss: 0.3241 - accuracy: 0.8637 - val_loss: 0.4723 - val_accuracy: 0.8000\n",
      "Epoch 30/50\n",
      "250/250 [==============================] - 69s 276ms/step - loss: 0.3170 - accuracy: 0.8645 - val_loss: 0.4660 - val_accuracy: 0.8025\n",
      "Epoch 31/50\n",
      "250/250 [==============================] - 70s 282ms/step - loss: 0.3092 - accuracy: 0.8662 - val_loss: 0.4574 - val_accuracy: 0.8020\n",
      "Epoch 32/50\n",
      "250/250 [==============================] - 70s 281ms/step - loss: 0.2999 - accuracy: 0.8717 - val_loss: 0.4551 - val_accuracy: 0.8060\n",
      "Epoch 33/50\n",
      "250/250 [==============================] - 69s 276ms/step - loss: 0.2841 - accuracy: 0.8792 - val_loss: 0.4789 - val_accuracy: 0.8070\n",
      "Epoch 34/50\n",
      "250/250 [==============================] - 69s 276ms/step - loss: 0.2775 - accuracy: 0.8836 - val_loss: 0.5070 - val_accuracy: 0.7940\n",
      "Epoch 35/50\n",
      "250/250 [==============================] - 69s 275ms/step - loss: 0.2719 - accuracy: 0.8874 - val_loss: 0.4774 - val_accuracy: 0.8115\n",
      "Epoch 36/50\n",
      "250/250 [==============================] - 69s 276ms/step - loss: 0.2736 - accuracy: 0.8875 - val_loss: 0.5117 - val_accuracy: 0.7940\n",
      "Epoch 37/50\n",
      "250/250 [==============================] - 68s 274ms/step - loss: 0.2604 - accuracy: 0.8914 - val_loss: 0.5016 - val_accuracy: 0.7915\n",
      "Epoch 38/50\n",
      "250/250 [==============================] - 69s 275ms/step - loss: 0.2417 - accuracy: 0.9046 - val_loss: 0.5050 - val_accuracy: 0.7995\n",
      "Epoch 39/50\n",
      "250/250 [==============================] - 69s 276ms/step - loss: 0.2413 - accuracy: 0.8981 - val_loss: 0.5200 - val_accuracy: 0.7960\n",
      "Epoch 40/50\n",
      "250/250 [==============================] - 69s 274ms/step - loss: 0.2398 - accuracy: 0.9031 - val_loss: 0.5178 - val_accuracy: 0.8015\n",
      "Epoch 41/50\n",
      "250/250 [==============================] - 69s 277ms/step - loss: 0.2263 - accuracy: 0.9072 - val_loss: 0.4975 - val_accuracy: 0.8095\n",
      "Epoch 42/50\n",
      "250/250 [==============================] - 69s 277ms/step - loss: 0.2194 - accuracy: 0.9121 - val_loss: 0.5207 - val_accuracy: 0.8090\n",
      "Epoch 43/50\n",
      "250/250 [==============================] - 69s 275ms/step - loss: 0.2187 - accuracy: 0.9094 - val_loss: 0.5105 - val_accuracy: 0.8035\n",
      "Epoch 44/50\n",
      "250/250 [==============================] - 69s 275ms/step - loss: 0.1989 - accuracy: 0.9218 - val_loss: 0.5927 - val_accuracy: 0.7910\n",
      "Epoch 45/50\n",
      "250/250 [==============================] - 68s 274ms/step - loss: 0.2007 - accuracy: 0.9205 - val_loss: 0.5269 - val_accuracy: 0.7975\n",
      "Epoch 46/50\n",
      "250/250 [==============================] - 69s 274ms/step - loss: 0.1925 - accuracy: 0.9205 - val_loss: 0.5492 - val_accuracy: 0.8025\n",
      "Epoch 47/50\n",
      "250/250 [==============================] - 69s 275ms/step - loss: 0.1913 - accuracy: 0.9224 - val_loss: 0.6639 - val_accuracy: 0.7795\n",
      "Epoch 48/50\n",
      "250/250 [==============================] - 69s 275ms/step - loss: 0.1792 - accuracy: 0.9293 - val_loss: 0.6441 - val_accuracy: 0.7830\n",
      "Epoch 49/50\n",
      "250/250 [==============================] - 70s 278ms/step - loss: 0.1681 - accuracy: 0.9330 - val_loss: 0.6446 - val_accuracy: 0.7930\n",
      "Epoch 50/50\n",
      "250/250 [==============================] - 69s 274ms/step - loss: 0.1727 - accuracy: 0.9327 - val_loss: 0.5796 - val_accuracy: 0.8020\n"
     ]
    },
    {
     "data": {
      "text/plain": [
       "<tensorflow.python.keras.callbacks.History at 0x234f2ab52b0>"
      ]
     },
     "execution_count": 284,
     "metadata": {},
     "output_type": "execute_result"
    }
   ],
   "source": [
    "cnn.fit(x = training_set, validation_data = test_set, epochs = 50)"
   ]
  },
  {
   "cell_type": "code",
   "execution_count": 214,
   "metadata": {},
   "outputs": [],
   "source": [
    "import numpy as np\n",
    "from keras.preprocessing import image\n",
    "test_image = image.load_img(r'C:\\Users\\DELL\\Desktop\\DG\\dog19.jpg', target_size = (64, 64))\n",
    "test_image = image.img_to_array(test_image)\n",
    "test_image = np.expand_dims(test_image, axis = 0)\n",
    "result = cnn.predict(test_image)\n",
    "training_set.class_indices\n",
    "if result[0][0] == 1:\n",
    "  prediction = 'dog'\n",
    "else:\n",
    "  prediction = 'cat'"
   ]
  },
  {
   "cell_type": "code",
   "execution_count": 215,
   "metadata": {},
   "outputs": [
    {
     "name": "stdout",
     "output_type": "stream",
     "text": [
      "dog\n"
     ]
    }
   ],
   "source": [
    "print(prediction)"
   ]
  },
  {
   "cell_type": "code",
   "execution_count": null,
   "metadata": {},
   "outputs": [],
   "source": []
  }
 ],
 "metadata": {
  "kernelspec": {
   "display_name": "Python 3",
   "language": "python",
   "name": "python3"
  },
  "language_info": {
   "codemirror_mode": {
    "name": "ipython",
    "version": 3
   },
   "file_extension": ".py",
   "mimetype": "text/x-python",
   "name": "python",
   "nbconvert_exporter": "python",
   "pygments_lexer": "ipython3",
   "version": "3.8.3"
  }
 },
 "nbformat": 4,
 "nbformat_minor": 4
}
